{
  "nbformat": 4,
  "nbformat_minor": 0,
  "metadata": {
    "colab": {
      "provenance": [],
      "authorship_tag": "ABX9TyP3DUoQM9bxo7lKbfzEwcPZ",
      "include_colab_link": true
    },
    "kernelspec": {
      "name": "python3",
      "display_name": "Python 3"
    },
    "language_info": {
      "name": "python"
    }
  },
  "cells": [
    {
      "cell_type": "markdown",
      "metadata": {
        "id": "view-in-github",
        "colab_type": "text"
      },
      "source": [
        "<a href=\"https://colab.research.google.com/github/sinchana-08/AI/blob/main/1BM22CS278_ResolutioninFOL.ipynb\" target=\"_parent\"><img src=\"https://colab.research.google.com/assets/colab-badge.svg\" alt=\"Open In Colab\"/></a>"
      ]
    },
    {
      "cell_type": "code",
      "source": [
        "# Tree-like structure where each node represents a state\n",
        "tree = {\n",
        "    'A': {'B': {'D': 3, 'E': 12}, 'C': {'F': 8, 'G': 2}}\n",
        "}\n",
        "\n",
        "def terminal_test(state):\n",
        "    \"\"\"Returns True if the state is a terminal node.\"\"\"\n",
        "    return isinstance(state, int)  # Terminal states are integers (utility values)\n",
        "\n",
        "def utility(state):\n",
        "    \"\"\"Returns the utility value of a terminal state.\"\"\"\n",
        "    return state  # State itself is the utility value (integer)\n",
        "\n",
        "def actions(state):\n",
        "    \"\"\"Returns the possible actions (keys of the current state's dictionary).\"\"\"\n",
        "    return list(state.keys())\n",
        "\n",
        "def result(state, action):\n",
        "    \"\"\"Returns the child state resulting from taking the given action.\"\"\"\n",
        "    return state[action]\n",
        "\n",
        "def alpha_beta_search(state):\n",
        "    \"\"\"Alpha-Beta Pruning to find the maximum number.\"\"\"\n",
        "    def max_value(state, alpha, beta):\n",
        "        if terminal_test(state):\n",
        "            return utility(state)\n",
        "        v = float('-inf')\n",
        "        for action in actions(state):\n",
        "            v = max(v, min_value(result(state, action), alpha, beta))\n",
        "            if v >= beta:\n",
        "                return v  # Beta cutoff\n",
        "            alpha = max(alpha, v)\n",
        "        return v\n",
        "\n",
        "    def min_value(state, alpha, beta):\n",
        "        if terminal_test(state):\n",
        "            return utility(state)\n",
        "        v = float('inf')\n",
        "        for action in actions(state):\n",
        "            v = min(v, max_value(result(state, action), alpha, beta))\n",
        "            if v <= alpha:\n",
        "                return v  # Alpha cutoff\n",
        "            beta = min(beta, v)\n",
        "        return v\n",
        "\n",
        "    # Start with initial alpha and beta values\n",
        "    return max_value(state, float('-inf'), float('inf'))\n",
        "\n",
        "# Run Alpha-Beta Pruning to find the maximum number in the tree\n",
        "max_value_found = alpha_beta_search(tree['A'])\n",
        "print(f\"Maximum value in the tree: {max_value_found}\")\n"
      ],
      "metadata": {
        "colab": {
          "base_uri": "https://localhost:8080/"
        },
        "id": "-l3Q_zA6hgvs",
        "outputId": "c29a9388-9774-48db-edeb-6466e851ef7d"
      },
      "execution_count": 8,
      "outputs": [
        {
          "output_type": "stream",
          "name": "stdout",
          "text": [
            "Maximum value in the tree: 3\n"
          ]
        }
      ]
    },
    {
      "cell_type": "code",
      "source": [
        "class CNFReasoner:\n",
        "    def __init__(self, clauses):\n",
        "        \"\"\"\n",
        "        Initializes the CNF Reasoner.\n",
        "\n",
        "        Parameters:\n",
        "            clauses (list of sets): List of clauses in CNF format.\n",
        "        \"\"\"\n",
        "        self.clauses = [set(clause) for clause in clauses]\n",
        "\n",
        "    def resolve(self, clause1, clause2):\n",
        "        \"\"\"\n",
        "        Resolve two clauses to produce new clauses if possible.\n",
        "\n",
        "        Parameters:\n",
        "            clause1 (set): The first clause (set of literals).\n",
        "            clause2 (set): The second clause (set of literals).\n",
        "\n",
        "        Returns:\n",
        "            list: A list of resolved clauses (sets of literals).\n",
        "        \"\"\"\n",
        "        resolvents = []\n",
        "        for literal in clause1:\n",
        "            neg_literal = f\"~{literal}\" if not literal.startswith(\"~\") else literal[1:]\n",
        "            if neg_literal in clause2:\n",
        "                # Create a new clause by removing complementary literals\n",
        "                new_clause = (clause1 - {literal}) | (clause2 - {neg_literal})\n",
        "                resolvents.append(new_clause)\n",
        "        return resolvents\n",
        "\n",
        "    def infer(self, goal):\n",
        "        \"\"\"\n",
        "        Infer whether the goal is provable using resolution.\n",
        "\n",
        "        Parameters:\n",
        "            goal (set): The negation of the goal to be proved.\n",
        "\n",
        "        Returns:\n",
        "            bool: True if the goal is provable, False otherwise.\n",
        "        \"\"\"\n",
        "        goal_clause = {f\"~{literal}\" for literal in goal}\n",
        "        clauses = self.clauses + [goal_clause]  # Add the negated goal to clauses\n",
        "        new = set()\n",
        "\n",
        "        while True:\n",
        "            pairs = [(clauses[i], clauses[j]) for i in range(len(clauses)) for j in range(i + 1, len(clauses))]\n",
        "            for (clause1, clause2) in pairs:\n",
        "                resolvents = self.resolve(clause1, clause2)\n",
        "                for resolvent in resolvents:\n",
        "                    if not resolvent:  # Found an empty clause, goal is proved\n",
        "                        return True\n",
        "                    new.add(frozenset(resolvent))\n",
        "\n",
        "            # Check if no new information is being added\n",
        "            if new.issubset(set(map(frozenset, clauses))):\n",
        "                return False\n",
        "\n",
        "            # Add new resolvents to the clauses\n",
        "            for clause in new:\n",
        "                if clause not in clauses:\n",
        "                    clauses.append(set(clause))\n",
        "\n",
        "\n",
        "# Define the CNF clauses based on the FOL premises\n",
        "cnf_clauses = [\n",
        "    {\"~Food(X)\", \"Likes(John, X)\"},  # Rule 1: If Food(X), then Likes(John, X)\n",
        "    {\"~Eats(Anil, Peanuts)\", \"Food(Peanuts)\"},  # Rule 2.1: If Anil eats peanuts, peanuts are food\n",
        "    {\"~Alive(Anil)\", \"Food(Peanuts)\"},  # Rule 2.2: If Anil is alive, peanuts are food\n",
        "    {\"~Food(Peanuts)\", \"Likes(John, Peanuts)\"},  # Rule 3: If peanuts are food, John likes peanuts\n",
        "    {\"Eats(Anil, Peanuts)\"},  # Fact 1: Anil eats peanuts\n",
        "    {\"Alive(Anil)\"},  # Fact 2: Anil is alive\n",
        "]\n",
        "\n",
        "# Define the goal: Prove that John likes peanuts\n",
        "goal = {\"Likes(John, Peanuts)\"}\n",
        "\n",
        "# Initialize the reasoner and infer\n",
        "reasoner = CNFReasoner(cnf_clauses)\n",
        "if reasoner.infer(goal):\n",
        "    print(\"Proved: John likes peanuts.\")\n",
        "else:\n",
        "    print(\"Could not prove: John likes peanuts.\")\n",
        "\n"
      ],
      "metadata": {
        "colab": {
          "base_uri": "https://localhost:8080/"
        },
        "id": "i75HXPLBlIca",
        "outputId": "45ba6e2a-a0f2-4b15-fc72-892e7ff67ca0"
      },
      "execution_count": 9,
      "outputs": [
        {
          "output_type": "stream",
          "name": "stdout",
          "text": [
            "Proved: John likes peanuts.\n"
          ]
        }
      ]
    }
  ]
}